{
 "cells": [
  {
   "cell_type": "code",
   "execution_count": 1,
   "metadata": {
    "ExecuteTime": {
     "end_time": "2021-10-21T14:06:41.022300Z",
     "start_time": "2021-10-21T14:06:40.419806Z"
    }
   },
   "outputs": [],
   "source": [
    "import pandas as pd\n",
    "import numpy as np\n",
    "import math\n",
    "from scipy.io.wavfile import read"
   ]
  },
  {
   "cell_type": "code",
   "execution_count": 2,
   "metadata": {
    "ExecuteTime": {
     "end_time": "2021-10-21T14:06:41.503967Z",
     "start_time": "2021-10-21T14:06:41.494976Z"
    }
   },
   "outputs": [],
   "source": [
    "transmit= read('Data/Task1_SignalDetection/Data/transmitSignal.wav')\n",
    "transmit = np.array(transmit[1],dtype=float)\n",
    "received = read('Data/Task1_SignalDetection/Data/7.wav')\n",
    "received = np.array(received[1],dtype=float)"
   ]
  },
  {
   "cell_type": "code",
   "execution_count": 3,
   "metadata": {
    "ExecuteTime": {
     "end_time": "2021-10-21T14:06:42.274631Z",
     "start_time": "2021-10-21T14:06:42.267335Z"
    }
   },
   "outputs": [],
   "source": [
    "def corrcoeff_1d(A,B):\n",
    "    # Rowwise mean of input arrays & subtract from input arrays themeselves\n",
    "    A_mA = A - A.mean(-1,keepdims=1)\n",
    "    B_mB = B - B.mean(-1,keepdims=1)\n",
    "\n",
    "    # Sum of squares\n",
    "    ssA = np.einsum('i,i->',A_mA, A_mA)\n",
    "    ssB = np.einsum('i,i->',B_mB, B_mB)\n",
    "\n",
    "    # Finally get corr coeff\n",
    "    return np.einsum('i,i->',A_mA,B_mB)/np.sqrt(ssA*ssB)\n"
   ]
  },
  {
   "cell_type": "code",
   "execution_count": 4,
   "metadata": {
    "ExecuteTime": {
     "end_time": "2021-10-21T14:06:43.529904Z",
     "start_time": "2021-10-21T14:06:43.205166Z"
    },
    "code_folding": []
   },
   "outputs": [],
   "source": [
    "window = 1900 #length of the transmitted signal\n",
    "N = len(received)\n",
    "out = np.zeros(N)\n",
    "for i in range(N):\n",
    "    if i+window <=len(received) - len(transmit):\n",
    "        out[i] = corrcoeff_1d(received[i:i+window], transmit)\n"
   ]
  },
  {
   "cell_type": "code",
   "execution_count": 5,
   "metadata": {
    "ExecuteTime": {
     "end_time": "2021-10-21T14:06:55.833837Z",
     "start_time": "2021-10-21T14:06:44.219302Z"
    }
   },
   "outputs": [
    {
     "name": "stdout",
     "output_type": "stream",
     "text": [
      "1173\n"
     ]
    }
   ],
   "source": [
    "for i in range(len(out)):\n",
    "    if out[i] == max(out):\n",
    "        print(i)"
   ]
  }
 ],
 "metadata": {
  "kernelspec": {
   "display_name": "Python 3",
   "language": "python",
   "name": "python3"
  },
  "language_info": {
   "codemirror_mode": {
    "name": "ipython",
    "version": 3
   },
   "file_extension": ".py",
   "mimetype": "text/x-python",
   "name": "python",
   "nbconvert_exporter": "python",
   "pygments_lexer": "ipython3",
   "version": "3.7.4"
  },
  "toc": {
   "base_numbering": 1,
   "nav_menu": {},
   "number_sections": true,
   "sideBar": true,
   "skip_h1_title": false,
   "title_cell": "Table of Contents",
   "title_sidebar": "Contents",
   "toc_cell": false,
   "toc_position": {},
   "toc_section_display": true,
   "toc_window_display": false
  },
  "varInspector": {
   "cols": {
    "lenName": 16,
    "lenType": 16,
    "lenVar": 40
   },
   "kernels_config": {
    "python": {
     "delete_cmd_postfix": "",
     "delete_cmd_prefix": "del ",
     "library": "var_list.py",
     "varRefreshCmd": "print(var_dic_list())"
    },
    "r": {
     "delete_cmd_postfix": ") ",
     "delete_cmd_prefix": "rm(",
     "library": "var_list.r",
     "varRefreshCmd": "cat(var_dic_list()) "
    }
   },
   "types_to_exclude": [
    "module",
    "function",
    "builtin_function_or_method",
    "instance",
    "_Feature"
   ],
   "window_display": false
  }
 },
 "nbformat": 4,
 "nbformat_minor": 2
}
